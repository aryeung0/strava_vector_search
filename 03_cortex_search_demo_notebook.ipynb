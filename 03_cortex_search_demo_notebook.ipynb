{
  "metadata": {
    "kernelspec": {
      "display_name": "Python 3",
      "language": "python",
      "name": "python3"
    },
    "language_info": {
      "name": "python",
      "version": "3.8.0"
    },
    "lastEditStatus": {
      "notebookId": "mcspdudsjfjynlo7zi35",
      "authorId": "6661036637158",
      "authorName": "ARYEUNG",
      "authorEmail": "arnold.yeung@snowflake.com",
      "sessionId": "5c7161ad-0dcd-48a6-b3fc-63d8a7921d55",
      "lastEditTime": 1760198970285
    }
  },
  "nbformat_minor": 5,
  "nbformat": 4,
  "cells": [
    {
      "cell_type": "markdown",
      "metadata": {
        "name": "MD_overview",
        "tags": [
          "MD_overview"
        ]
      },
      "source": [
        "# Strava Workout Vector Search Demo\n",
        "\n",
        "## Overview\n",
        "This notebook demonstrates **Snowflake Cortex Search** for intelligent workout discovery using semantic search.\n",
        "\n",
        "**Business Use Case**: Cache intelligent workout generation\n",
        "- Semantically match user requests to existing workouts\n",
        "- Reduce compute costs by reusing similar workouts\n",
        "- Handle high-volume requests with hybrid filtering\n",
        "\n",
        "**Key Features**:\n",
        "- Semantic search (natural language understanding)\n",
        "- Metadata filtering (sport type, difficulty, distance)\n",
        "- Complex logic (AND/OR operators)\n",
        "- AI-powered summarization\n",
        "\n",
        "---\n"
      ],
      "id": "ce110000-1111-2222-3333-ffffff000000"
    },
    {
      "cell_type": "markdown",
      "metadata": {
        "name": "MD_setup",
        "tags": [
          "MD_setup"
        ]
      },
      "source": [
        "## Setup\n",
        "Connect to the demo environment:\n"
      ],
      "id": "ce110000-1111-2222-3333-ffffff000001"
    },
    {
      "cell_type": "code",
      "execution_count": 1,
      "metadata": {
        "language": "sql",
        "name": "setup",
        "tags": [
          "setup"
        ],
        "vscode": {
          "languageId": "sql"
        }
      },
      "outputs": [
        {
          "output_type": "execute_result",
          "data": {
            "text/html": "<table border=\"1\" class=\"dataframe\">\n  <thead>\n    <tr style=\"text-align: right;\">\n      <th>created_on</th>\n      <th>name</th>\n      <th>database_name</th>\n      <th>schema_name</th>\n      <th>target_lag</th>\n      <th>warehouse</th>\n      <th>search_column</th>\n      <th>attribute_columns</th>\n      <th>columns</th>\n      <th>definition</th>\n      <th>comment</th>\n      <th>embedding_model</th>\n      <th>indexing_state</th>\n      <th>serving_state</th>\n      <th>source_data_num_rows</th>\n      <th>primary_key_columns</th>\n      <th>scoring_profile_count</th>\n    </tr>\n  </thead>\n  <tbody>\n    <tr>\n      <td>2025-10-11T00:42:16.496Z</td>\n      <td>WORKOUT_SEARCH_SERVICE</td>\n      <td>STRAVA_DEMO_SAMPLE</td>\n      <td>VECTOR_SEARCH_DEMO</td>\n      <td>1 minute</td>\n      <td>STRAVA_DEMO_WH</td>\n      <td>EMBED_STR</td>\n      <td>ID,SPORT_TYPE,DIFFICULTY,MOVING_TIME_SECONDS,DISTANCE_METERS,GENERATION_MODEL,WORKOUT_SOURCE,STORE_VERSION</td>\n      <td>ID,EMBED_STR,SPORT_TYPE,DIFFICULTY,MOVING_TIME_SECONDS,DISTANCE_METERS,GENERATION_MODEL,WORKOUT_SOURCE,STORE_VERSION</td>\n      <td>(<br>    SELECT <br>        ID,<br>        EMBED_STR,<br>        SPORT_TYPE,<br>        DIFFICULTY,<br>        MOVING_TIME_SECONDS,<br>        DISTANCE_METERS,<br>        GENERATION_MODEL,<br>        WORKOUT_SOURCE,<br>        STORE_VERSION<br>    FROM WORKOUTS<br>)</td>\n      <td></td>\n      <td>snowflake-arctic-embed-m-v1.5</td>\n      <td>SUSPENDED</td>\n      <td>ACTIVE</td>\n      <td>2000</td>\n      <td></td>\n      <td>0</td>\n    </tr>\n  </tbody>\n</table>",
            "text/plain": "1 rows \u00d7 17 columns"
          },
          "metadata": {},
          "execution_count": 1
        }
      ],
      "source": [
        "-- Set context\n",
        "USE ROLE STRAVA_DEMO_ADMIN;\n",
        "USE DATABASE STRAVA_DEMO_SAMPLE;\n",
        "USE SCHEMA VECTOR_SEARCH_DEMO;\n",
        "USE WAREHOUSE STRAVA_DEMO_WH;\n",
        "\n",
        "-- Verify Cortex Search service\n",
        "SHOW CORTEX SEARCH SERVICES;\n"
      ],
      "id": "ce110000-1111-2222-3333-ffffff000002"
    },
    {
      "cell_type": "markdown",
      "metadata": {
        "name": "MD_q1_desc",
        "tags": [
          "MD_q1_desc"
        ]
      },
      "source": [
        "---\n",
        "\n",
        "# Demo Query 1: Basic Semantic Search\n",
        "\n",
        "**Scenario**: \"Show me endurance training workouts\"\n",
        "\n",
        "**What This Demonstrates**:\n",
        "- Pure semantic search without filters\n",
        "- Natural language understanding\n",
        "- Relevance ranking\n",
        "- Simple parameterization\n",
        "\n",
        "**Try modifying**: Change the `query_text` or `result_limit` values below\n"
      ],
      "id": "ce110000-1111-2222-3333-ffffff000003"
    },
    {
      "cell_type": "code",
      "execution_count": 1,
      "id": "298bb0e4-6713-48b4-9a13-cb0588126d87",
      "metadata": {
        "language": "sql",
        "name": "q1_execute",
        "tags": [
          "q1_execute"
        ],
        "vscode": {
          "languageId": "sql"
        }
      },
      "outputs": [
        {
          "output_type": "execute_result",
          "data": {
            "text/html": "<table border=\"1\" class=\"dataframe\">\n  <thead>\n    <tr style=\"text-align: right;\">\n      <th>ID</th>\n      <th>WORKOUT_PREVIEW</th>\n      <th>SPORT_TYPE</th>\n      <th>DIFFICULTY</th>\n      <th>DISTANCE_KM</th>\n      <th>DURATION_MIN</th>\n    </tr>\n  </thead>\n  <tbody>\n    <tr>\n      <td>SLAM_82246cb285d95fb1</td>\n      <td>Hard Steady State<br>## Warm-up<br>\u2022 1500m easy build at &lt;PACE_ZONE_1_RECOVERY&gt; to &lt;PACE_ZONE_2_ENDURANCE&gt;<br><br>## Main Set<br>\u2022 7000m steady state at &lt;PACE_ZONE_4</td>\n      <td>run</td>\n      <td>moderate</td>\n      <td>31.8</td>\n      <td></td>\n    </tr>\n    <tr>\n      <td>SLAM_3037643ec2bd5d76</td>\n      <td>Hard Steady State<br>## Warm-up<br>\u2022 1500m easy build at &lt;PACE_ZONE_1_RECOVERY&gt; to &lt;PACE_ZONE_2_ENDURANCE&gt;<br><br>## Main Set<br>\u2022 7000m steady state at &lt;PACE_ZONE_4</td>\n      <td>run</td>\n      <td>moderate</td>\n      <td>32.2</td>\n      <td></td>\n    </tr>\n    <tr>\n      <td>SLAM_4da2a32af816ef91</td>\n      <td>Hard Steady State<br>## Warm-up<br>\u2022 1500m easy build at &lt;PACE_ZONE_1_RECOVERY&gt; to &lt;PACE_ZONE_2_ENDURANCE&gt;<br><br>## Main Set<br>\u2022 7000m steady state at &lt;PACE_ZONE_4</td>\n      <td>run</td>\n      <td>moderate</td>\n      <td>34.9</td>\n      <td></td>\n    </tr>\n    <tr>\n      <td>SLAM_a672bbbca5396f7a</td>\n      <td>Hard Steady State<br>## Warm-up<br>\u2022 1500m easy build at &lt;PACE_ZONE_1_RECOVERY&gt; to &lt;PACE_ZONE_2_ENDURANCE&gt;<br><br>## Main Set<br>\u2022 7000m steady state at &lt;PACE_ZONE_4</td>\n      <td>run</td>\n      <td>hard</td>\n      <td>40.4</td>\n      <td></td>\n    </tr>\n    <tr>\n      <td>SLAM_6597e5789f9fab3f</td>\n      <td>Hard Steady State<br>## Warm-up<br>\u2022 1500m easy build at &lt;PACE_ZONE_1_RECOVERY&gt; to &lt;PACE_ZONE_2_ENDURANCE&gt;<br><br>## Main Set<br>\u2022 7000m steady state at &lt;PACE_ZONE_4</td>\n      <td>run</td>\n      <td>hard</td>\n      <td>37.4</td>\n      <td></td>\n    </tr>\n  </tbody>\n</table>",
            "text/plain": "5 rows \u00d7 6 columns"
          },
          "metadata": {},
          "execution_count": 1
        }
      ],
      "source": "-- Query 1 Parameters (modify these values)\nSET query_text = 'endurance long distance training workout';\nSET result_limit = 5;\n\n-- Build the search JSON from parameters\nSET search_json = (\n    SELECT CONCAT(\n        '{\"query\": \"', $query_text, '\",',\n        ' \"columns\": [\"ID\", \"EMBED_STR\", \"SPORT_TYPE\", \"DIFFICULTY\", \"DISTANCE_METERS\", \"MOVING_TIME_SECONDS\"],',\n        ' \"limit\": ', $result_limit, '}'\n    )\n);\n\n-- Execute Query 1\nSELECT \n    result.value:ID::VARCHAR AS ID,\n    LEFT(result.value:EMBED_STR::VARCHAR, 150) AS WORKOUT_PREVIEW,\n    result.value:SPORT_TYPE::VARCHAR AS SPORT_TYPE,\n    result.value:DIFFICULTY::VARCHAR AS DIFFICULTY,\n    ROUND(NULLIF(result.value:DISTANCE_METERS::VARCHAR, '')::FLOAT / 1000.0, 1) AS DISTANCE_KM,\n    ROUND(NULLIF(result.value:MOVING_TIME_SECONDS::VARCHAR, '')::FLOAT / 60.0, 0) AS DURATION_MIN\nFROM TABLE(FLATTEN(\n    PARSE_JSON(\n        SNOWFLAKE.CORTEX.SEARCH_PREVIEW(\n            'STRAVA_DEMO_SAMPLE.VECTOR_SEARCH_DEMO.WORKOUT_SEARCH_SERVICE',\n            $search_json\n        )\n    )['results']\n)) result;\n"
    },
    {
      "cell_type": "markdown",
      "id": "fc5147f7-50ee-47f0-9f4d-b0185dbef27c",
      "metadata": {
        "name": "MD_q1_insight",
        "tags": [
          "MD_q1_insight"
        ]
      },
      "source": [
        "**Key Insight**: The search finds relevant workouts using semantic understanding - it matches intent, not just keywords.\n",
        "\n",
        "---\n"
      ]
    },
    {
      "cell_type": "markdown",
      "id": "68f44e3c-cba1-4935-9f6b-a55abf5f2510",
      "metadata": {
        "name": "MD_q2_desc",
        "tags": [
          "MD_q2_desc"
        ]
      },
      "source": [
        "# Demo Query 2: Hybrid Search with Filters\n",
        "\n",
        "**Scenario**: \"Find beginner-friendly 5K running workouts\"\n",
        "\n",
        "**What This Demonstrates**:\n",
        "- Semantic search + metadata filtering\n",
        "- Distance range filtering (4.5-6.0 km \u2248 5K)\n",
        "- Difficulty level filtering\n",
        "- Sport type filtering\n",
        "\n",
        "**Try modifying**: Change `\"query\"`, `\"SPORT_TYPE\"`, `\"DIFFICULTY\"`, or distance ranges\n"
      ]
    },
    {
      "cell_type": "code",
      "execution_count": 1,
      "id": "b59e3f0f-ff3e-4e1e-b205-cc410601872a",
      "metadata": {
        "language": "sql",
        "name": "q2_execute",
        "tags": [
          "q2_execute"
        ],
        "vscode": {
          "languageId": "sql"
        }
      },
      "outputs": [
        {
          "output_type": "execute_result",
          "data": {
            "text/html": "<table border=\"1\" class=\"dataframe\">\n  <thead>\n    <tr style=\"text-align: right;\">\n      <th>ID</th>\n      <th>WORKOUT_PREVIEW</th>\n      <th>DISTANCE_KM</th>\n      <th>DURATION_MIN</th>\n      <th>DIFFICULTY</th>\n    </tr>\n  </thead>\n  <tbody>\n    <tr>\n      <td>SLAM_fffcde1db58ed04b</td>\n      <td>Easy Recovery Run<br>## Warm-up<br>\u2022 5 min easy jog at &lt;PACE_ZONE_1_RECOVERY&gt;<br>\u2022 Focus on relaxed form and </td>\n      <td>4.7</td>\n      <td>40</td>\n      <td>easy</td>\n    </tr>\n    <tr>\n      <td>SLAM_7726f1a625864d83</td>\n      <td>Easy Recovery Run<br>## Warm-up<br>\u2022 5 min easy jog at &lt;PACE_ZONE_1_RECOVERY&gt;<br>\u2022 Focus on relaxed form and </td>\n      <td>5.5</td>\n      <td>40</td>\n      <td>easy</td>\n    </tr>\n    <tr>\n      <td>SLAM_9ff71481b9949ee9</td>\n      <td>Easy Recovery Run<br>## Warm-up<br>\u2022 5 min easy jog at &lt;PACE_ZONE_1_RECOVERY&gt;<br>\u2022 Focus on relaxed form and </td>\n      <td>5.6</td>\n      <td>40</td>\n      <td>easy</td>\n    </tr>\n    <tr>\n      <td>SLAM_e44e667406f53c92</td>\n      <td>Easy Recovery Run<br>## Warm-up<br>\u2022 5 min easy jog at &lt;PACE_ZONE_1_RECOVERY&gt;<br>\u2022 Focus on relaxed form and </td>\n      <td>5.9</td>\n      <td>40</td>\n      <td>easy</td>\n    </tr>\n    <tr>\n      <td>SLAM_57df8e55f986c74f</td>\n      <td>Easy Recovery Run<br>## Warm-up<br>\u2022 5 min easy jog at &lt;PACE_ZONE_1_RECOVERY&gt;<br>\u2022 Focus on relaxed form and </td>\n      <td>4.8</td>\n      <td>40</td>\n      <td>easy</td>\n    </tr>\n  </tbody>\n</table>",
            "text/plain": "5 rows \u00d7 5 columns"
          },
          "metadata": {},
          "execution_count": 1
        }
      ],
      "source": [
        "SELECT \n    result.value:ID::VARCHAR AS ID,\n    LEFT(result.value:EMBED_STR::VARCHAR, 100) AS WORKOUT_PREVIEW,\n    ROUND(NULLIF(result.value:DISTANCE_METERS::VARCHAR, '')::FLOAT / 1000.0, 1) AS DISTANCE_KM,\n    ROUND(NULLIF(result.value:MOVING_TIME_SECONDS::VARCHAR, '')::FLOAT / 60.0, 0) AS DURATION_MIN,\n    result.value:DIFFICULTY::VARCHAR AS DIFFICULTY\nFROM TABLE(FLATTEN(\n    PARSE_JSON(\n        SNOWFLAKE.CORTEX.SEARCH_PREVIEW(\n            'STRAVA_DEMO_SAMPLE.VECTOR_SEARCH_DEMO.WORKOUT_SEARCH_SERVICE',\n            '{\n                \"query\": \"beginner friendly easy paced 5k running workout\",\n                \"columns\": [\"ID\", \"EMBED_STR\", \"DISTANCE_METERS\", \"MOVING_TIME_SECONDS\", \"DIFFICULTY\"],\n                \"filter\": {\"@and\": [\n                    {\"@eq\": {\"SPORT_TYPE\": \"run\"}},\n                    {\"@eq\": {\"DIFFICULTY\": \"easy\"}},\n                    {\"@gte\": {\"DISTANCE_METERS\": 4500}},\n                    {\"@lte\": {\"DISTANCE_METERS\": 6000}}\n                ]},\n                \"limit\": 5\n            }'\n        )\n    )['results']\n)) result;\n"
      ]
    },
    {
      "cell_type": "markdown",
      "id": "01416930-c4c7-4e4b-9a83-4950669a8f51",
      "metadata": {
        "name": "MD_q2_insight",
        "tags": [
          "MD_q2_insight"
        ]
      },
      "source": [
        "**Key Insight**: Filters ensure ALL results match criteria (sport, difficulty, distance), while semantic ranking orders by relevance.\n",
        "\n",
        "---\n"
      ]
    },
    {
      "cell_type": "markdown",
      "id": "90430d17-49db-4c41-b512-e825a68b53ce",
      "metadata": {
        "name": "MD_q3_desc",
        "tags": [
          "MD_q3_desc"
        ]
      },
      "source": [
        "# Demo Query 3: Advanced Filtering with OR Logic\n",
        "\n",
        "**Scenario**: \"High-intensity cycling for experienced athletes\"\n",
        "\n",
        "**What This Demonstrates**:\n",
        "- Complex `@or` logic for multiple difficulty levels\n",
        "- Filtering by sport type\n",
        "- Multiple conditions with `@and` + `@or`\n",
        "\n",
        "**Try modifying**: Change difficulty levels or sport type\n"
      ]
    },
    {
      "cell_type": "code",
      "execution_count": 1,
      "id": "9dc7388b-8f58-4803-806d-62b687704d57",
      "metadata": {
        "language": "sql",
        "name": "q3_execute",
        "tags": [
          "q3_execute"
        ],
        "vscode": {
          "languageId": "sql"
        }
      },
      "outputs": [
        {
          "output_type": "execute_result",
          "data": {
            "text/html": "<table border=\"1\" class=\"dataframe\">\n  <thead>\n    <tr style=\"text-align: right;\">\n      <th>ID</th>\n      <th>WORKOUT_PREVIEW</th>\n      <th>DIFFICULTY</th>\n      <th>DISTANCE_KM</th>\n      <th>DURATION_MIN</th>\n    </tr>\n  </thead>\n  <tbody>\n    <tr>\n      <td>SLAM_e46a83ee904b545e</td>\n      <td>Steady Zone Ride<br>## Warm-up<br>\u2022 10 min gradual build from &lt;POWER_ZONE_1_RECOVERY&gt; to &lt;POWER_ZONE_2_ENDURANCE&gt;<br>\u2022 Focus on s</td>\n      <td>hard</td>\n      <td></td>\n      <td>73</td>\n    </tr>\n    <tr>\n      <td>SLAM_3651aa26826074b7</td>\n      <td>Steady Zone Ride<br>## Warm-up<br>\u2022 10 min gradual build from &lt;POWER_ZONE_1_RECOVERY&gt; to &lt;POWER_ZONE_2_ENDURANCE&gt;<br>\u2022 Focus on s</td>\n      <td>hard</td>\n      <td></td>\n      <td>74</td>\n    </tr>\n    <tr>\n      <td>SLAM_1b3058a10bdd3c3f</td>\n      <td>Steady Zone Ride<br>## Warm-up<br>\u2022 10 min gradual build from &lt;POWER_ZONE_1_RECOVERY&gt; to &lt;POWER_ZONE_2_ENDURANCE&gt;<br>\u2022 Focus on s</td>\n      <td>hard</td>\n      <td></td>\n      <td>109</td>\n    </tr>\n    <tr>\n      <td>SLAM_be3ac8a45bbe0eec</td>\n      <td>Steady Zone Ride<br>## Warm-up<br>\u2022 10 min gradual build from &lt;POWER_ZONE_1_RECOVERY&gt; to &lt;POWER_ZONE_2_ENDURANCE&gt;<br>\u2022 Focus on s</td>\n      <td>hard</td>\n      <td></td>\n      <td>119</td>\n    </tr>\n    <tr>\n      <td>SLAM_d857f429b673bb57</td>\n      <td>Steady Zone Ride<br>## Warm-up<br>\u2022 10 min gradual build from &lt;POWER_ZONE_1_RECOVERY&gt; to &lt;POWER_ZONE_2_ENDURANCE&gt;<br>\u2022 Focus on s</td>\n      <td>very_hard</td>\n      <td></td>\n      <td>128</td>\n    </tr>\n  </tbody>\n</table>",
            "text/plain": "5 rows \u00d7 5 columns"
          },
          "metadata": {},
          "execution_count": 1
        }
      ],
      "source": [
        "SELECT \n    result.value:ID::VARCHAR AS ID,\n    LEFT(result.value:EMBED_STR::VARCHAR, 120) AS WORKOUT_PREVIEW,\n    result.value:DIFFICULTY::VARCHAR AS DIFFICULTY,\n    ROUND(NULLIF(result.value:DISTANCE_METERS::VARCHAR, '')::FLOAT / 1000.0, 1) AS DISTANCE_KM,\n    ROUND(NULLIF(result.value:MOVING_TIME_SECONDS::VARCHAR, '')::FLOAT / 60.0, 0) AS DURATION_MIN\nFROM TABLE(FLATTEN(\n    PARSE_JSON(\n        SNOWFLAKE.CORTEX.SEARCH_PREVIEW(\n            'STRAVA_DEMO_SAMPLE.VECTOR_SEARCH_DEMO.WORKOUT_SEARCH_SERVICE',\n            '{\n                \"query\": \"intense hard challenging cycling interval training power\",\n                \"columns\": [\"ID\", \"EMBED_STR\", \"DIFFICULTY\", \"DISTANCE_METERS\", \"MOVING_TIME_SECONDS\"],\n                \"filter\": {\"@and\": [\n                    {\"@eq\": {\"SPORT_TYPE\": \"ride\"}},\n                    {\"@or\": [\n                        {\"@eq\": {\"DIFFICULTY\": \"hard\"}},\n                        {\"@eq\": {\"DIFFICULTY\": \"very_hard\"}}\n                    ]}\n                ]},\n                \"limit\": 5\n            }'\n        )\n    )['results']\n)) result;\n"
      ]
    },
    {
      "cell_type": "markdown",
      "metadata": {
        "name": "MD_q3_insight",
        "tags": [
          "MD_q3_insight"
        ]
      },
      "source": [
        "**Key Insight**: Complex `@or` logic enables flexible filtering - returns workouts matching ANY of the specified difficulty levels.\n",
        "\n",
        "---\n"
      ],
      "id": "ce110000-1111-2222-3333-ffffff000004"
    },
    {
      "cell_type": "markdown",
      "metadata": {
        "collapsed": false,
        "name": "MD_query4_intro"
      },
      "source": [
        "# Demo Query 4: Intelligent Workout Modification\n",
        "\n",
        "**Scenario**: \"I found a workout but have constraints - modify it for me\"\n",
        "\n",
        "**What This Demonstrates**:\n",
        "- AI-powered workout adaptation\n",
        "- Real-world personalization (time constraints, injuries, equipment)\n",
        "- Maintains training intent while adjusting execution\n",
        "\n",
        "**Try modifying**: Change the constraints (time limit, injury type, equipment availability)\n"
      ],
      "id": "ce110000-1111-2222-3333-ffffff000005"
    },
    {
      "cell_type": "code",
      "execution_count": 1,
      "metadata": {
        "language": "python",
        "name": "q4_workout_modification"
      },
      "outputs": [
        {
          "output_type": "stream",
          "name": "stdout",
          "text": "================================================================================  \nINTELLIGENT WORKOUT MODIFICATION  \n================================================================================  \nORIGINAL WORKOUT  \n--------------------------------------------------------------------------------  \nID: SLAM_17404d40edd287f6  \nDifficulty: moderate  \nDistance: 4.5 km  \n5K Threshold Intervals  \n## Warm-up  \n\u2022 1000m easy at <PACE_ZONE_2_ENDURANCE>  \n## Main Set  \n### Threshold Intervals  \n4 intervals of:  \n\u2022 800m at <PACE_ZONE_4_THRESHOLD> (comfortably hard, sustainable effort)  \n\u2022 200m recovery jog at <PACE_ZONE_1_RECOVERY>  \n## Cool-down  \n\u2022 800m easy at <PACE_ZONE_2_ENDURANCE>  \n...  \n================================================================================  \nMODIFIED WORKOUT (30 min, knee-friendly)  \n================================================================================  \n ### Modified Workout for Athlete with 30 Minutes and Recovering from Knee Pain  \n**Training Intent:** Threshold/Tempo work with reduced volume and impact.  \n---  \n### Warm-up  \n- **5 minutes** of easy walking or slow jogging at <PACE_ZONE_2_ENDURANCE>  \n- **2 minutes** of dynamic stretching (leg swings, hip circles, etc.)  \n---  \n### Main Set  \n#### Threshold Intervals  \n3 intervals of:  \n- **400m** at <PACE_ZONE_4_THRESHOLD> (comfortably hard, sustainable effort)  \n- **200m** recovery walk at <PACE_ZONE_1_RECOVERY>  \n---  \n### Cool-down  \n- **5 minutes** of easy walking or slow jogging at <PACE_ZONE_2_ENDURANCE>  \n---  \n### Training Notes  \n- **Maintain consistent effort** throughout each threshold segment.  \n- **Focus on smooth, controlled breathing** and efficient form.  \n- **Listen to your body** and avoid any movements that cause knee pain.  \n- **Reduce impact** by walking during recovery intervals.  \n- **Total time** should be approximately 30 minutes, including warm-up, main set, and cool-down.  \nThis modified workout reduces the overall volume and impact to accommodate the athlete's time constraints and knee recovery while maintaining the threshold/tempo training intent.  \n================================================================================"
        }
      ],
      "source": [
        "# Query 4: Intelligent Workout Modification\n",
        "# Find a workout and modify it for constraints (30 min + knee pain)\n",
        "\n",
        "# Get Snowflake session\n",
        "from snowflake.snowpark.context import get_active_session\n",
        "session = get_active_session()\n",
        "\n",
        "# Step 1: Search for a threshold workout\n",
        "search_query = \"\"\"\n",
        "SELECT \n",
        "    result.value:ID::VARCHAR AS WORKOUT_ID,\n",
        "    result.value:EMBED_STR::VARCHAR AS WORKOUT_TEXT,\n",
        "    result.value:DIFFICULTY::VARCHAR AS DIFFICULTY,\n",
        "    ROUND(TRY_CAST(result.value:DISTANCE_METERS::VARCHAR AS INT) / 1000.0, 1) AS DISTANCE_KM\n",
        "FROM TABLE(FLATTEN(\n",
        "    PARSE_JSON(\n",
        "        SNOWFLAKE.CORTEX.SEARCH_PREVIEW(\n",
        "            'STRAVA_DEMO_SAMPLE.VECTOR_SEARCH_DEMO.WORKOUT_SEARCH_SERVICE',\n",
        "            '{\n",
        "                \"query\": \"threshold tempo interval training\",\n",
        "                \"columns\": [\"ID\", \"EMBED_STR\", \"DIFFICULTY\", \"DISTANCE_METERS\"],\n",
        "                \"filter\": {\"@eq\": {\"SPORT_TYPE\": \"run\"}},\n",
        "                \"limit\": 1\n",
        "            }'\n",
        "        )\n",
        "    )['results']\n",
        ")) result\n",
        "\"\"\"\n",
        "\n",
        "original_workout = session.sql(search_query).collect()[0]\n",
        "\n",
        "# Step 2: Use AI to modify the workout\n",
        "modification_prompt = f\"\"\"Modify this workout for an athlete with only 30 minutes available and recovering from knee pain.\n",
        "Keep the same training intent (threshold/tempo work) but adjust volume and impact.\n",
        "Format your response with clear sections: Warm-up, Main Set, Cool-down, and Training Notes.\n",
        "\n",
        "Original workout:\n",
        "{original_workout['WORKOUT_TEXT']}\n",
        "\"\"\"\n",
        "\n",
        "# Escape single quotes for SQL\n",
        "escaped_prompt = modification_prompt.replace(\"'\", \"''\")\n",
        "\n",
        "ai_query = f\"\"\"\n",
        "SELECT SNOWFLAKE.CORTEX.COMPLETE(\n",
        "    'mistral-large2',\n",
        "    '{escaped_prompt}'\n",
        ") AS MODIFIED_WORKOUT\n",
        "\"\"\"\n",
        "\n",
        "modified = session.sql(ai_query).collect()[0]\n",
        "\n",
        "# Step 3: Display results in a nice format\n",
        "print(\"=\"*80)\n",
        "print(\"INTELLIGENT WORKOUT MODIFICATION\")\n",
        "print(\"=\"*80)\n",
        "print()\n",
        "print(\"ORIGINAL WORKOUT\")\n",
        "print(\"-\"*80)\n",
        "print(f\"ID: {original_workout['WORKOUT_ID']}\")\n",
        "print(f\"Difficulty: {original_workout['DIFFICULTY']}\")\n",
        "print(f\"Distance: {original_workout['DISTANCE_KM']} km\")\n",
        "print()\n",
        "print(original_workout['WORKOUT_TEXT'][:300] + \"...\")\n",
        "print()\n",
        "print(\"=\"*80)\n",
        "print(\"MODIFIED WORKOUT (30 min, knee-friendly)\")\n",
        "print(\"=\"*80)\n",
        "print()\n",
        "print(modified['MODIFIED_WORKOUT'])\n",
        "print()\n",
        "print(\"=\"*80)\n"
      ],
      "id": "ce110000-1111-2222-3333-ffffff000006"
    },
    {
      "cell_type": "markdown",
      "metadata": {
        "collapsed": false,
        "name": "MD_query5_intro"
      },
      "source": [
        "**Key Insight**: AI can intelligently adapt workouts based on real-world constraints while maintaining training principles.\n",
        "\n",
        "---\n",
        "\n",
        "# Demo Query 5: Progressive Workout Recommendation\n",
        "\n",
        "**Scenario**: \"I just completed this 5K workout - give me a slightly harder one to progress\"\n",
        "\n",
        "**What This Demonstrates**:\n",
        "- Conversational AI with workout context\n",
        "- Progressive training logic (gradual overload)\n",
        "- Understands workout characteristics and progression\n",
        "- Personalized next-step recommendations\n",
        "\n",
        "**Try modifying**: Change the completed workout or progression request (easier, different focus, etc.)\n"
      ],
      "id": "ce110000-1111-2222-3333-ffffff000007"
    },
    {
      "cell_type": "code",
      "execution_count": 1,
      "metadata": {
        "language": "python",
        "name": "q5_progressive_recommendation"
      },
      "outputs": [
        {
          "output_type": "stream",
          "name": "stdout",
          "text": "================================================================================  \nPROGRESSIVE WORKOUT RECOMMENDATION  \n================================================================================  \nUSER REQUEST: 'I just did the 5K workout - give me something harder'  \n--------------------------------------------------------------------------------  \nCOMPLETED WORKOUT  \n--------------------------------------------------------------------------------  \nDifficulty: moderate  \nDistance: 4.6 km  \n5K Threshold Intervals  \n## Warm-up  \n\u2022 1000m easy at <PACE_ZONE_2_ENDURANCE>  \n## Main Set  \n### Threshold Intervals  \n4 intervals of:  \n\u2022 800m at <PACE_ZONE_4_THRESHOLD> (comfortably hard, sustainable effort)  \n\u2022 200m recovery jog at <PACE_ZONE_1_RECOVERY>  \n##   \n...  \n================================================================================  \nPROGRESSION OPTIONS FOUND  \n================================================================================  \nOption 1: [hard      ] 5.5 km, None min  \n  5K Threshold Intervals  \nOption 2: [hard      ] 5.5 km, None min  \n  5K Threshold Intervals  \nOption 3: [hard      ] 4.6 km, None min  \n  5K Threshold Intervals  \n================================================================================  \nAI COACH RECOMMENDATION  \n================================================================================  \n Recommendation: Option 1 (hard): 5K Threshold Intervals  \nWhy: Option 1 is the best next workout for progressive overload because it maintains the same number of intervals and the same distance per interval as the completed workout, but it removes the recovery jogs. This change increases the overall intensity and reduces the rest, making the workout harder without significantly increasing the volume or risk of injury. This progression is appropriate because it builds on the athlete's current fitness level and pushes them slightly out of their comfort zone.  \nTips:  \n1. **Pacing**: Since there are no recovery jogs, focus on maintaining a consistent pace throughout each 800m interval. Start at a comfortably hard pace and try to hold that pace for all four intervals.  \n2. **Mental preparation**: This workout will be more challenging mentally due to the lack of recovery jogs. Break down each interval into smaller segments to stay focused and motivated. For example, think of each 800m interval as two 400m repeats.  \n================================================================================"
        }
      ],
      "source": [
        "# Query 5: Progressive Workout Recommendation\n",
        "# User completed a workout and wants a harder progression\n",
        "\n",
        "# Get Snowflake session\n",
        "from snowflake.snowpark.context import get_active_session\n",
        "session = get_active_session()\n",
        "\n",
        "# Step 1: Get the workout user just completed (simulating user input)\n",
        "# Use Cortex Search to find a moderate 5K-style workout\n",
        "completed_search = \"\"\"\n",
        "SELECT \n",
        "    result.value:ID::VARCHAR AS ID,\n",
        "    result.value:EMBED_STR::VARCHAR AS EMBED_STR,\n",
        "    result.value:SPORT_TYPE::VARCHAR AS SPORT_TYPE,\n",
        "    result.value:DIFFICULTY::VARCHAR AS DIFFICULTY,\n",
        "    TRY_CAST(result.value:DISTANCE_METERS::VARCHAR AS INT) AS DISTANCE_METERS,\n",
        "    TRY_CAST(result.value:MOVING_TIME_SECONDS::VARCHAR AS INT) AS MOVING_TIME_SECONDS\n",
        "FROM TABLE(FLATTEN(\n",
        "    PARSE_JSON(\n",
        "        SNOWFLAKE.CORTEX.SEARCH_PREVIEW(\n",
        "            'STRAVA_DEMO_SAMPLE.VECTOR_SEARCH_DEMO.WORKOUT_SEARCH_SERVICE',\n",
        "            '{\n",
        "                \"query\": \"5K tempo moderate running workout\",\n",
        "                \"columns\": [\"ID\", \"EMBED_STR\", \"SPORT_TYPE\", \"DIFFICULTY\", \"DISTANCE_METERS\", \"MOVING_TIME_SECONDS\"],\n",
        "                \"filter\": {\"@and\": [\n",
        "                    {\"@eq\": {\"SPORT_TYPE\": \"run\"}},\n",
        "                    {\"@eq\": {\"DIFFICULTY\": \"moderate\"}}\n",
        "                ]},\n",
        "                \"limit\": 1\n",
        "            }'\n",
        "        )\n",
        "    )['results']\n",
        ")) result\n",
        "\"\"\"\n",
        "\n",
        "completed_results = session.sql(completed_search).collect()\n",
        "\n",
        "if not completed_results:\n",
        "    print(\"ERROR: No moderate running workouts found in database\")\n",
        "    print(\"Please ensure workouts are loaded properly.\")\n",
        "else:\n",
        "    completed = completed_results[0]\n",
        "    \n",
        "    # Step 2: Search for harder workouts in the same domain\n",
        "    progression_search = \"\"\"\n",
        "    SELECT \n",
        "        result.value:ID::VARCHAR AS WORKOUT_ID,\n",
        "        result.value:EMBED_STR::VARCHAR AS WORKOUT_TEXT,\n",
        "        result.value:DIFFICULTY::VARCHAR AS DIFFICULTY,\n",
        "        ROUND(TRY_CAST(result.value:DISTANCE_METERS::VARCHAR AS INT) / 1000.0, 1) AS DISTANCE_KM,\n",
        "        ROUND(TRY_CAST(result.value:MOVING_TIME_SECONDS::VARCHAR AS INT) / 60.0, 0) AS DURATION_MIN\n",
        "    FROM TABLE(FLATTEN(\n",
        "        PARSE_JSON(\n",
        "            SNOWFLAKE.CORTEX.SEARCH_PREVIEW(\n",
        "                'STRAVA_DEMO_SAMPLE.VECTOR_SEARCH_DEMO.WORKOUT_SEARCH_SERVICE',\n",
        "                '{\n",
        "                    \"query\": \"5K interval threshold running workout\",\n",
        "                    \"columns\": [\"ID\", \"EMBED_STR\", \"DIFFICULTY\", \"DISTANCE_METERS\", \"MOVING_TIME_SECONDS\"],\n",
        "                    \"filter\": {\"@and\": [\n",
        "                        {\"@eq\": {\"SPORT_TYPE\": \"run\"}},\n",
        "                        {\"@or\": [\n",
        "                            {\"@eq\": {\"DIFFICULTY\": \"hard\"}},\n",
        "                            {\"@eq\": {\"DIFFICULTY\": \"very hard\"}}\n",
        "                        ]}\n",
        "                    ]},\n",
        "                    \"limit\": 3\n",
        "                }'\n",
        "            )\n",
        "        )['results']\n",
        "    )) result\n",
        "    \"\"\"\n",
        "    \n",
        "    candidates = session.sql(progression_search).collect()\n",
        "    \n",
        "    if not candidates:\n",
        "        print(\"ERROR: No harder workouts found\")\n",
        "    else:\n",
        "        # Step 3: Use AI to recommend the best progression\n",
        "        candidates_summary = \"\\n\".join([\n",
        "            f\"Option {i+1} ({c['DIFFICULTY']}): {c['WORKOUT_TEXT'][:200]}\"\n",
        "            for i, c in enumerate(candidates)\n",
        "        ])\n",
        "        \n",
        "        recommendation_prompt = f\"\"\"You are a running coach helping an athlete progress their training.\n",
        "\n",
        "The athlete just completed this workout:\n",
        "DIFFICULTY: {completed['DIFFICULTY']}\n",
        "WORKOUT: {completed['EMBED_STR'][:300]}\n",
        "\n",
        "They want a slightly harder workout to continue improving. Here are {len(candidates)} harder workout options:\n",
        "\n",
        "{candidates_summary}\n",
        "\n",
        "Your task:\n",
        "1. Analyze the completed workout's characteristics (pace zones, intervals, volume)\n",
        "2. Review the {len(candidates)} harder options\n",
        "3. Recommend the BEST next workout for progressive overload\n",
        "4. Explain WHY this is the right progression (what makes it harder but appropriate)\n",
        "5. Give 1-2 tips for successfully completing the harder workout\n",
        "\n",
        "Format: \n",
        "Recommendation: [Option number and name]\n",
        "Why: [Explanation]\n",
        "Tips: [Advice]\n",
        "\"\"\"\n",
        "        \n",
        "        # Escape single quotes for SQL\n",
        "        escaped_prompt = recommendation_prompt.replace(\"'\", \"''\")\n",
        "        \n",
        "        ai_query = f\"\"\"\n",
        "        SELECT SNOWFLAKE.CORTEX.COMPLETE(\n",
        "            'mistral-large2',\n",
        "            '{escaped_prompt}'\n",
        "        ) AS RECOMMENDATION\n",
        "        \"\"\"\n",
        "        \n",
        "        recommendation = session.sql(ai_query).collect()[0]\n",
        "        \n",
        "        # Step 4: Display results with rich formatting\n",
        "        print(\"=\"*80)\n",
        "        print(\"PROGRESSIVE WORKOUT RECOMMENDATION\")\n",
        "        print(\"=\"*80)\n",
        "        print()\n",
        "        print(\"USER REQUEST: 'I just did the 5K workout - give me something harder'\")\n",
        "        print()\n",
        "        print(\"-\"*80)\n",
        "        print(\"COMPLETED WORKOUT\")\n",
        "        print(\"-\"*80)\n",
        "        print(f\"Difficulty: {completed['DIFFICULTY']}\")\n",
        "        if completed['DISTANCE_METERS']:\n",
        "            print(f\"Distance: {completed['DISTANCE_METERS']/1000:.1f} km\")\n",
        "        print()\n",
        "        print(completed['EMBED_STR'][:250])\n",
        "        print(\"...\")\n",
        "        print()\n",
        "        print(\"=\"*80)\n",
        "        print(\"PROGRESSION OPTIONS FOUND\")\n",
        "        print(\"=\"*80)\n",
        "        print()\n",
        "        for i, candidate in enumerate(candidates, 1):\n",
        "            print(f\"Option {i}: [{candidate['DIFFICULTY']:10s}] {candidate['DISTANCE_KM']} km, {candidate['DURATION_MIN']} min\")\n",
        "            print(f\"  {candidate['WORKOUT_TEXT'].split(chr(10))[0]}\")\n",
        "            print()\n",
        "        \n",
        "        print(\"=\"*80)\n",
        "        print(\"AI COACH RECOMMENDATION\")\n",
        "        print(\"=\"*80)\n",
        "        print()\n",
        "        print(recommendation['RECOMMENDATION'])\n",
        "        print()\n",
        "        print(\"=\"*80)\n"
      ],
      "id": "ce110000-1111-2222-3333-ffffff000008"
    },
    {
      "cell_type": "markdown",
      "metadata": {
        "collapsed": false,
        "name": "MD_query5_closing"
      },
      "source": [
        "**Key Insight**: AI understands training progression principles and can recommend appropriate next steps based on completed workouts - simulating a personal coach.\n",
        "\n",
        "---\n"
      ],
      "id": "ce110000-1111-2222-3333-ffffff000009"
    }
  ]
}